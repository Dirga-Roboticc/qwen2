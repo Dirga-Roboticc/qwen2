{
 "cells": [
  {
   "cell_type": "code",
   "execution_count": 1,
   "id": "f8cb6cb3-f6f8-4e85-9b86-25e4b6cd7866",
   "metadata": {},
   "outputs": [
    {
     "data": {
      "application/vnd.jupyter.widget-view+json": {
       "model_id": "ff3a0feafe8e44788fd01b97f784aebb",
       "version_major": 2,
       "version_minor": 0
      },
      "text/plain": [
       "Loading checkpoint shards:   0%|          | 0/2 [00:00<?, ?it/s]"
      ]
     },
     "metadata": {},
     "output_type": "display_data"
    }
   ],
   "source": [
    "# !pip install -U flash-attn --no-build-isolation\n",
    "from qwen_vl_utils import process_vision_info\n",
    "from transformers import AutoProcessor, AutoTokenizer, Qwen2VLForConditionalGeneration\n",
    "\n",
    "\n",
    "model_path = \"Qwen/Qwen2-VL-2B-Instruct\"\n",
    "\n",
    "tokenizer = AutoTokenizer.from_pretrained(model_path)\n",
    "processor = AutoProcessor.from_pretrained(model_path)\n",
    "model = Qwen2VLForConditionalGeneration.from_pretrained(\n",
    "    model_path,\n",
    "    torch_dtype=\"auto\",\n",
    "    # attn_implementation=\"flash_attention_2\",\n",
    "    device_map=\"cuda\",\n",
    ")"
   ]
  },
  {
   "cell_type": "code",
   "execution_count": 3,
   "id": "7a15d126-3427-4613-8bab-ca82c862f45e",
   "metadata": {},
   "outputs": [
    {
     "name": "stdout",
     "output_type": "stream",
     "text": [
      "tensor([[151644,   8948,    198,  ...,   4603,   1189, 151645]],\n",
      "       device='cuda:0')\n",
      "The left sidebar of Visual Studio Code displays a search icon, which is represented by<|object_ref_start|> a magnifying glass<|object_ref_end|><|box_start|>(517,272),(669,577)<|box_end|>. The caption for this image would be: \"<|object_ref_start|>Visual Studio Code left sidebar<|object_ref_end|><|box_start|>(3,10),(996,989)<|box_end|> with the search icon.\"<|im_end|>\n"
     ]
    },
    {
     "ename": "AttributeError",
     "evalue": "'Qwen2TokenizerFast' object has no attribute 'draw_bbox_on_latest_picture'",
     "output_type": "error",
     "traceback": [
      "\u001b[0;31m---------------------------------------------------------------------------\u001b[0m",
      "\u001b[0;31mAttributeError\u001b[0m                            Traceback (most recent call last)",
      "Cell \u001b[0;32mIn[3], line 35\u001b[0m\n\u001b[1;32m     33\u001b[0m output_tokens \u001b[38;5;241m=\u001b[39m tokenizer\u001b[38;5;241m.\u001b[39mconvert_ids_to_tokens(generated_ids_trimmed[\u001b[38;5;241m0\u001b[39m])\n\u001b[1;32m     34\u001b[0m \u001b[38;5;28mprint\u001b[39m(output_text)\n\u001b[0;32m---> 35\u001b[0m image \u001b[38;5;241m=\u001b[39m tokenizer\u001b[38;5;241m.\u001b[39mdraw_bbox_on_latest_picture(response, history)\n\u001b[1;32m     36\u001b[0m \u001b[38;5;28;01mif\u001b[39;00m image:\n\u001b[1;32m     37\u001b[0m   image\u001b[38;5;241m.\u001b[39msave(\u001b[38;5;124m'\u001b[39m\u001b[38;5;124m1.jpg\u001b[39m\u001b[38;5;124m'\u001b[39m)\n",
      "\u001b[0;31mAttributeError\u001b[0m: 'Qwen2TokenizerFast' object has no attribute 'draw_bbox_on_latest_picture'"
     ]
    }
   ],
   "source": [
    "messages = [\n",
    "    [\n",
    "        {\n",
    "            \"role\": \"user\",\n",
    "            \"content\": [\n",
    "                {\n",
    "                    \"type\": \"image\",\n",
    "                    \"image\": \"./tes.png\",\n",
    "                },\n",
    "                {\n",
    "                    \"type\": \"text\",\n",
    "                    \"text\": \"find search icon of the left sidebar of visual studio code and Generate the caption in English with grounding:\",\n",
    "                },\n",
    "            ],\n",
    "        },\n",
    "    ],\n",
    "]\n",
    "\n",
    "# Preparation for inference\n",
    "text = processor.apply_chat_template(messages, tokenize=False, add_generation_prompt=True)\n",
    "image_inputs, video_inputs = process_vision_info(messages)\n",
    "inputs = processor(text=text, images=image_inputs, videos=video_inputs, padding=True, return_tensors=\"pt\")\n",
    "inputs = inputs.to(\"cuda\")\n",
    "\n",
    "# Inference: Generation of the output\n",
    "generated_ids = model.generate(**inputs, max_new_tokens=128)\n",
    "generated_ids_trimmed = [out_ids[len(in_ids) :] for in_ids, out_ids in zip(inputs.input_ids, generated_ids)]\n",
    "\n",
    "print(generated_ids)\n",
    "\n",
    "# Output\n",
    "output_text = tokenizer.decode(generated_ids_trimmed[0], skip_special_tokens=False, clean_up_tokenization_spaces=False)\n",
    "output_tokens = tokenizer.convert_ids_to_tokens(generated_ids_trimmed[0])\n",
    "print(output_text)\n",
    "# print(output_tokens)\n",
    "\n",
    "image = tokenizer.draw_bbox_on_latest_picture(response, history)\n",
    "if image:\n",
    "  image.save('1.jpg')\n",
    "else:\n",
    "  print(\"no box\")\n",
    "\n",
    "# output_text\n",
    "# In the image,<|object_ref_start|>a woman<|object_ref_end|><|box_start|>(456,387),(702,789)<|box_end|> is sitting on the beach with<|object_ref_start|> her dog<|object_ref_end|><|box_start|>(241,431),(568,883)<|box_end|>, engaging in a playful activity where the dog is giving her a high-five. The setting is serene, with the ocean in the background and the sun casting a warm glow over the scene. The woman appears to be enjoying a peaceful moment with her pet.<|im_end|>\n",
    "# output_tokens\n",
    "# ['In', 'Ġthe', 'Ġimage', ',', '<|object_ref_start|>', 'a', 'Ġwoman', '<|object_ref_end|>', '<|box_start|>', '(', '4', '5', '6', ',', '3', '8', '7', '),(', '7', '0', '2', ',', '7', '8', '9', ')', '<|box_end|>', 'Ġis', 'Ġsitting', 'Ġon', 'Ġthe', 'Ġbeach', 'Ġwith', '<|object_ref_start|>', 'Ġher', 'Ġdog', '<|object_ref_end|>', '<|box_start|>', '(', '2', '4', '1', ',', '4', '3', '1', '),(', '5', '6', '8', ',', '8', '8', '3', ')', '<|box_end|>', ',', 'Ġengaging', 'Ġin', 'Ġa', 'Ġplayful', 'Ġactivity', 'Ġwhere', 'Ġthe', 'Ġdog', 'Ġis', 'Ġgiving', 'Ġher', 'Ġa', 'Ġhigh', '-five', '.', 'ĠThe', 'Ġsetting', 'Ġis', 'Ġserene', ',', 'Ġwith', 'Ġthe', 'Ġocean', 'Ġin', 'Ġthe', 'Ġbackground', 'Ġand', 'Ġthe', 'Ġsun', 'Ġcasting', 'Ġa', 'Ġwarm', 'Ġglow', 'Ġover', 'Ġthe', 'Ġscene', '.', 'ĠThe', 'Ġwoman', 'Ġappears', 'Ġto', 'Ġbe', 'Ġenjoying', 'Ġa', 'Ġpeaceful', 'Ġmoment', 'Ġwith', 'Ġher', 'Ġpet', '.', '<|im_end|>']"
   ]
  },
  {
   "cell_type": "code",
   "execution_count": null,
   "id": "41ec8578-102d-4d64-92b2-471f0e5ba45e",
   "metadata": {},
   "outputs": [],
   "source": []
  }
 ],
 "metadata": {
  "kernelspec": {
   "display_name": "Python 3 (ipykernel)",
   "language": "python",
   "name": "python3"
  },
  "language_info": {
   "codemirror_mode": {
    "name": "ipython",
    "version": 3
   },
   "file_extension": ".py",
   "mimetype": "text/x-python",
   "name": "python",
   "nbconvert_exporter": "python",
   "pygments_lexer": "ipython3",
   "version": "3.11.10"
  }
 },
 "nbformat": 4,
 "nbformat_minor": 5
}
