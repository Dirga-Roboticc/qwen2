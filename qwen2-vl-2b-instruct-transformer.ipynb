{
 "cells": [
  {
   "cell_type": "code",
   "execution_count": 1,
   "id": "f8cb6cb3-f6f8-4e85-9b86-25e4b6cd7866",
   "metadata": {},
   "outputs": [
    {
     "data": {
      "application/vnd.jupyter.widget-view+json": {
       "model_id": "ff3a0feafe8e44788fd01b97f784aebb",
       "version_major": 2,
       "version_minor": 0
      },
      "text/plain": [
       "Loading checkpoint shards:   0%|          | 0/2 [00:00<?, ?it/s]"
      ]
     },
     "metadata": {},
     "output_type": "display_data"
    }
   ],
   "source": [
    "# !pip install -U flash-attn --no-build-isolation\n",
    "from qwen_vl_utils import process_vision_info\n",
    "from transformers import AutoProcessor, AutoTokenizer, Qwen2VLForConditionalGeneration\n",
    "\n",
    "\n",
    "model_path = \"Qwen/Qwen2-VL-2B-Instruct\"\n",
    "\n",
    "tokenizer = AutoTokenizer.from_pretrained(model_path)\n",
    "processor = AutoProcessor.from_pretrained(model_path)\n",
    "model = Qwen2VLForConditionalGeneration.from_pretrained(\n",
    "    model_path,\n",
    "    torch_dtype=\"auto\",\n",
    "    # attn_implementation=\"flash_attention_2\",\n",
    "    device_map=\"cuda\",\n",
    ")"
   ]
  },
  {
   "cell_type": "code",
   "execution_count": 1,
   "id": "7a15d126-3427-4613-8bab-ca82c862f45e",
   "metadata": {},
   "outputs": [
    {
     "ename": "NameError",
     "evalue": "name 'processor' is not defined",
     "output_type": "error",
     "traceback": [
      "\u001b[0;31m---------------------------------------------------------------------------\u001b[0m",
      "\u001b[0;31mNameError\u001b[0m                                 Traceback (most recent call last)",
      "Cell \u001b[0;32mIn[1], line 20\u001b[0m\n\u001b[1;32m      1\u001b[0m messages \u001b[38;5;241m=\u001b[39m [\n\u001b[1;32m      2\u001b[0m     [\n\u001b[1;32m      3\u001b[0m         {\n\u001b[0;32m   (...)\u001b[0m\n\u001b[1;32m     16\u001b[0m     ],\n\u001b[1;32m     17\u001b[0m ]\n\u001b[1;32m     19\u001b[0m \u001b[38;5;66;03m# Preparation for inference\u001b[39;00m\n\u001b[0;32m---> 20\u001b[0m text \u001b[38;5;241m=\u001b[39m processor\u001b[38;5;241m.\u001b[39mapply_chat_template(messages, tokenize\u001b[38;5;241m=\u001b[39m\u001b[38;5;28;01mFalse\u001b[39;00m, add_generation_prompt\u001b[38;5;241m=\u001b[39m\u001b[38;5;28;01mTrue\u001b[39;00m)\n\u001b[1;32m     21\u001b[0m image_inputs, video_inputs \u001b[38;5;241m=\u001b[39m process_vision_info(messages)\n\u001b[1;32m     22\u001b[0m inputs \u001b[38;5;241m=\u001b[39m processor(text\u001b[38;5;241m=\u001b[39mtext, images\u001b[38;5;241m=\u001b[39mimage_inputs, videos\u001b[38;5;241m=\u001b[39mvideo_inputs, padding\u001b[38;5;241m=\u001b[39m\u001b[38;5;28;01mTrue\u001b[39;00m, return_tensors\u001b[38;5;241m=\u001b[39m\u001b[38;5;124m\"\u001b[39m\u001b[38;5;124mpt\u001b[39m\u001b[38;5;124m\"\u001b[39m)\n",
      "\u001b[0;31mNameError\u001b[0m: name 'processor' is not defined"
     ]
    }
   ],
   "source": [
    "messages = [\n",
    "    [\n",
    "        {\n",
    "            \"role\": \"user\",\n",
    "            \"content\": [\n",
    "                {\n",
    "                    \"type\": \"image\",\n",
    "                    \"image\": \"./tes.png\",\n",
    "                },\n",
    "                {\n",
    "                    \"type\": \"text\",\n",
    "                    \"text\": \"find search icon of the left sidebar of visual studio code and Generate the caption in English with grounding:\",\n",
    "                },\n",
    "            ],\n",
    "        },\n",
    "    ],\n",
    "]\n",
    "\n",
    "# Preparation for inference\n",
    "text = processor.apply_chat_template(messages, tokenize=False, add_generation_prompt=True)\n",
    "image_inputs, video_inputs = process_vision_info(messages)\n",
    "inputs = processor(text=text, images=image_inputs, videos=video_inputs, padding=True, return_tensors=\"pt\")\n",
    "inputs = inputs.to(\"cuda\")\n",
    "\n",
    "# Inference: Generation of the output\n",
    "generated_ids = model.generate(**inputs, max_new_tokens=128)\n",
    "generated_ids_trimmed = [out_ids[len(in_ids) :] for in_ids, out_ids in zip(inputs.input_ids, generated_ids)]\n",
    "\n",
    "print(generated_ids)\n",
    "\n",
    "# Output\n",
    "output_text = tokenizer.decode(generated_ids_trimmed[0], skip_special_tokens=False, clean_up_tokenization_spaces=False)\n",
    "output_tokens = tokenizer.convert_ids_to_tokens(generated_ids_trimmed[0])\n",
    "print(output_text)\n",
    "# print(output_tokens)\n",
    "\n",
    "# output_text\n",
    "# In the image,<|object_ref_start|>a woman<|object_ref_end|><|box_start|>(456,387),(702,789)<|box_end|> is sitting on the beach with<|object_ref_start|> her dog<|object_ref_end|><|box_start|>(241,431),(568,883)<|box_end|>, engaging in a playful activity where the dog is giving her a high-five. The setting is serene, with the ocean in the background and the sun casting a warm glow over the scene. The woman appears to be enjoying a peaceful moment with her pet.<|im_end|>\n",
    "# output_tokens\n",
    "# ['In', 'Ġthe', 'Ġimage', ',', '<|object_ref_start|>', 'a', 'Ġwoman', '<|object_ref_end|>', '<|box_start|>', '(', '4', '5', '6', ',', '3', '8', '7', '),(', '7', '0', '2', ',', '7', '8', '9', ')', '<|box_end|>', 'Ġis', 'Ġsitting', 'Ġon', 'Ġthe', 'Ġbeach', 'Ġwith', '<|object_ref_start|>', 'Ġher', 'Ġdog', '<|object_ref_end|>', '<|box_start|>', '(', '2', '4', '1', ',', '4', '3', '1', '),(', '5', '6', '8', ',', '8', '8', '3', ')', '<|box_end|>', ',', 'Ġengaging', 'Ġin', 'Ġa', 'Ġplayful', 'Ġactivity', 'Ġwhere', 'Ġthe', 'Ġdog', 'Ġis', 'Ġgiving', 'Ġher', 'Ġa', 'Ġhigh', '-five', '.', 'ĠThe', 'Ġsetting', 'Ġis', 'Ġserene', ',', 'Ġwith', 'Ġthe', 'Ġocean', 'Ġin', 'Ġthe', 'Ġbackground', 'Ġand', 'Ġthe', 'Ġsun', 'Ġcasting', 'Ġa', 'Ġwarm', 'Ġglow', 'Ġover', 'Ġthe', 'Ġscene', '.', 'ĠThe', 'Ġwoman', 'Ġappears', 'Ġto', 'Ġbe', 'Ġenjoying', 'Ġa', 'Ġpeaceful', 'Ġmoment', 'Ġwith', 'Ġher', 'Ġpet', '.', '<|im_end|>']"
   ]
  },
  {
   "cell_type": "code",
   "execution_count": null,
   "id": "41ec8578-102d-4d64-92b2-471f0e5ba45e",
   "metadata": {},
   "outputs": [],
   "source": []
  }
 ],
 "metadata": {
  "kernelspec": {
   "display_name": "Python 3 (ipykernel)",
   "language": "python",
   "name": "python3"
  },
  "language_info": {
   "codemirror_mode": {
    "name": "ipython",
    "version": 3
   },
   "file_extension": ".py",
   "mimetype": "text/x-python",
   "name": "python",
   "nbconvert_exporter": "python",
   "pygments_lexer": "ipython3",
   "version": "3.11.10"
  }
 },
 "nbformat": 4,
 "nbformat_minor": 5
}
